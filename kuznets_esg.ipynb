{
 "cells": [
  {
   "cell_type": "markdown",
   "metadata": {},
   "source": [
    "https://docs.google.com/document/d/1qJaeuC4Fddou_Ts2Lea0UHjrzgy8aSzY6ACCvUwuTe4/edit"
   ]
  },
  {
   "cell_type": "code",
   "execution_count": 2,
   "metadata": {},
   "outputs": [],
   "source": [
    "import pandas as pd\n",
    "import numpy as np\n",
    "import matplotlib.pyplot as plt\n",
    "#import statsmodels.formula.api as smf"
   ]
  },
  {
   "cell_type": "code",
   "execution_count": 4,
   "metadata": {},
   "outputs": [],
   "source": [
    "esg = pd.read_csv('esg.csv')\n",
    "co2 = pd.read_csv('co2_metric_tons_per_capita.csv')\n",
    "gdp = pd.read_csv('gdp_per_capita.csv')\n",
    "cul = pd.read_csv('culture.csv')"
   ]
  },
  {
   "cell_type": "code",
   "execution_count": 5,
   "metadata": {},
   "outputs": [
    {
     "data": {
      "text/html": [
       "<div>\n",
       "<style scoped>\n",
       "    .dataframe tbody tr th:only-of-type {\n",
       "        vertical-align: middle;\n",
       "    }\n",
       "\n",
       "    .dataframe tbody tr th {\n",
       "        vertical-align: top;\n",
       "    }\n",
       "\n",
       "    .dataframe thead th {\n",
       "        text-align: right;\n",
       "    }\n",
       "</style>\n",
       "<table border=\"1\" class=\"dataframe\">\n",
       "  <thead>\n",
       "    <tr style=\"text-align: right;\">\n",
       "      <th></th>\n",
       "      <th>source:</th>\n",
       "      <th>Kaasa Minkov 2022</th>\n",
       "      <th>Kaasa Minkov 2022.1</th>\n",
       "      <th>Inglehart Welzel 2021</th>\n",
       "      <th>Inglehart Welzel 2021.1</th>\n",
       "      <th>Minkov Kaasa 2022</th>\n",
       "      <th>Minkov Kaasa 2022.1</th>\n",
       "      <th>Beugelsdijk Welzel 2018</th>\n",
       "      <th>Beugelsdijk Welzel 2018.1</th>\n",
       "    </tr>\n",
       "  </thead>\n",
       "  <tbody>\n",
       "    <tr>\n",
       "      <th>0</th>\n",
       "      <td>country</td>\n",
       "      <td>freedom (vs concern)</td>\n",
       "      <td>responsibility (vs faith)</td>\n",
       "      <td>self-expression (vs survival)</td>\n",
       "      <td>secular (vs traditional)</td>\n",
       "      <td>individualism (vs collectivism)</td>\n",
       "      <td>flexibility (vs monumentalism)</td>\n",
       "      <td>individualism (vs collectivism)</td>\n",
       "      <td>duty (vs joy)</td>\n",
       "    </tr>\n",
       "    <tr>\n",
       "      <th>1</th>\n",
       "      <td>Albania</td>\n",
       "      <td>-0.49</td>\n",
       "      <td>-0.26</td>\n",
       "      <td>-0.86</td>\n",
       "      <td>-0.25</td>\n",
       "      <td>-91</td>\n",
       "      <td>38</td>\n",
       "      <td>34.2</td>\n",
       "      <td>0</td>\n",
       "    </tr>\n",
       "    <tr>\n",
       "      <th>2</th>\n",
       "      <td>Algeria</td>\n",
       "      <td>-0.42</td>\n",
       "      <td>-0.95</td>\n",
       "      <td>-0.87</td>\n",
       "      <td>-0.81</td>\n",
       "      <td>-83</td>\n",
       "      <td>-95</td>\n",
       "      <td>9.8</td>\n",
       "      <td>-43.2</td>\n",
       "    </tr>\n",
       "    <tr>\n",
       "      <th>3</th>\n",
       "      <td>Andorra</td>\n",
       "      <td>1.85</td>\n",
       "      <td>0.32</td>\n",
       "      <td>2.00</td>\n",
       "      <td>0.72</td>\n",
       "      <td>108</td>\n",
       "      <td>-8</td>\n",
       "      <td>92.3</td>\n",
       "      <td>-89.4</td>\n",
       "    </tr>\n",
       "    <tr>\n",
       "      <th>4</th>\n",
       "      <td>Argentina</td>\n",
       "      <td>0.68</td>\n",
       "      <td>-0.48</td>\n",
       "      <td>0.34</td>\n",
       "      <td>-0.46</td>\n",
       "      <td>-5</td>\n",
       "      <td>-80</td>\n",
       "      <td>36.2</td>\n",
       "      <td>-66</td>\n",
       "    </tr>\n",
       "  </tbody>\n",
       "</table>\n",
       "</div>"
      ],
      "text/plain": [
       "    source:      Kaasa Minkov 2022        Kaasa Minkov 2022.1  \\\n",
       "0    country  freedom (vs concern)  responsibility (vs faith)   \n",
       "1    Albania                 -0.49                      -0.26   \n",
       "2    Algeria                 -0.42                      -0.95   \n",
       "3    Andorra                  1.85                       0.32   \n",
       "4  Argentina                  0.68                      -0.48   \n",
       "\n",
       "           Inglehart Welzel 2021   Inglehart Welzel 2021.1  \\\n",
       "0  self-expression (vs survival)  secular (vs traditional)   \n",
       "1                          -0.86                     -0.25   \n",
       "2                          -0.87                     -0.81   \n",
       "3                           2.00                      0.72   \n",
       "4                           0.34                     -0.46   \n",
       "\n",
       "                 Minkov Kaasa 2022             Minkov Kaasa 2022.1  \\\n",
       "0  individualism (vs collectivism)  flexibility (vs monumentalism)   \n",
       "1                              -91                              38   \n",
       "2                              -83                             -95   \n",
       "3                              108                              -8   \n",
       "4                               -5                             -80   \n",
       "\n",
       "           Beugelsdijk Welzel 2018 Beugelsdijk Welzel 2018.1  \n",
       "0  individualism (vs collectivism)             duty (vs joy)  \n",
       "1                             34.2                         0  \n",
       "2                              9.8                     -43.2  \n",
       "3                             92.3                     -89.4  \n",
       "4                             36.2                       -66  "
      ]
     },
     "execution_count": 5,
     "metadata": {},
     "output_type": "execute_result"
    }
   ],
   "source": [
    "cul_df.head(5)"
   ]
  },
  {
   "cell_type": "code",
   "execution_count": null,
   "metadata": {},
   "outputs": [],
   "source": [
    "df['gdp_squared'] = df['gdp']**2\n",
    "formula = 'co2 ~ gdp + gdp_squared'\n",
    "model = smf.ols(formula, data=df)\n",
    "ols = model.fit()\n",
    "\n",
    "print(ols.summary())"
   ]
  }
 ],
 "metadata": {
  "kernelspec": {
   "display_name": "Python 3",
   "language": "python",
   "name": "python3"
  },
  "language_info": {
   "codemirror_mode": {
    "name": "ipython",
    "version": 3
   },
   "file_extension": ".py",
   "mimetype": "text/x-python",
   "name": "python",
   "nbconvert_exporter": "python",
   "pygments_lexer": "ipython3",
   "version": "3.11.1"
  }
 },
 "nbformat": 4,
 "nbformat_minor": 2
}
