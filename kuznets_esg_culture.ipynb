{
 "cells": [
  {
   "cell_type": "markdown",
   "metadata": {},
   "source": [
    "https://docs.google.com/document/d/1qJaeuC4Fddou_Ts2Lea0UHjrzgy8aSzY6ACCvUwuTe4/edit"
   ]
  },
  {
   "cell_type": "code",
   "execution_count": 177,
   "metadata": {},
   "outputs": [],
   "source": [
    "import pandas as pd\n",
    "import numpy as np\n",
    "from functools import reduce\n",
    "import matplotlib.pyplot as plt\n",
    "from scipy.stats import skew\n",
    "from scipy.stats import shapiro\n",
    "from statsmodels.tsa.seasonal import seasonal_decompose\n",
    "import statsmodels.formula.api as smf"
   ]
  },
  {
   "cell_type": "markdown",
   "metadata": {},
   "source": [
    "<h3>Data Preparation"
   ]
  },
  {
   "cell_type": "code",
   "execution_count": 178,
   "metadata": {},
   "outputs": [
    {
     "data": {
      "text/html": [
       "<div>\n",
       "<style scoped>\n",
       "    .dataframe tbody tr th:only-of-type {\n",
       "        vertical-align: middle;\n",
       "    }\n",
       "\n",
       "    .dataframe tbody tr th {\n",
       "        vertical-align: top;\n",
       "    }\n",
       "\n",
       "    .dataframe thead th {\n",
       "        text-align: right;\n",
       "    }\n",
       "</style>\n",
       "<table border=\"1\" class=\"dataframe\">\n",
       "  <thead>\n",
       "    <tr style=\"text-align: right;\">\n",
       "      <th></th>\n",
       "      <th>country</th>\n",
       "      <th>year</th>\n",
       "      <th>gdp</th>\n",
       "      <th>co2</th>\n",
       "      <th>mean_of_esg</th>\n",
       "      <th>pdi</th>\n",
       "      <th>idv</th>\n",
       "      <th>mas</th>\n",
       "      <th>uai</th>\n",
       "      <th>ltowvs</th>\n",
       "      <th>ivr</th>\n",
       "    </tr>\n",
       "  </thead>\n",
       "  <tbody>\n",
       "    <tr>\n",
       "      <th>0</th>\n",
       "      <td>Argentina</td>\n",
       "      <td>2020.0</td>\n",
       "      <td>20797.725953</td>\n",
       "      <td>3.405618</td>\n",
       "      <td>0.552</td>\n",
       "      <td>49</td>\n",
       "      <td>46</td>\n",
       "      <td>56</td>\n",
       "      <td>86</td>\n",
       "      <td>20</td>\n",
       "      <td>62</td>\n",
       "    </tr>\n",
       "    <tr>\n",
       "      <th>1</th>\n",
       "      <td>Australia</td>\n",
       "      <td>2020.0</td>\n",
       "      <td>53216.468537</td>\n",
       "      <td>14.776137</td>\n",
       "      <td>0.560</td>\n",
       "      <td>38</td>\n",
       "      <td>90</td>\n",
       "      <td>61</td>\n",
       "      <td>51</td>\n",
       "      <td>21</td>\n",
       "      <td>71</td>\n",
       "    </tr>\n",
       "    <tr>\n",
       "      <th>2</th>\n",
       "      <td>Austria</td>\n",
       "      <td>2020.0</td>\n",
       "      <td>57235.545869</td>\n",
       "      <td>6.632646</td>\n",
       "      <td>0.613</td>\n",
       "      <td>11</td>\n",
       "      <td>55</td>\n",
       "      <td>79</td>\n",
       "      <td>70</td>\n",
       "      <td>60</td>\n",
       "      <td>63</td>\n",
       "    </tr>\n",
       "    <tr>\n",
       "      <th>3</th>\n",
       "      <td>Bangladesh</td>\n",
       "      <td>2020.0</td>\n",
       "      <td>5904.567363</td>\n",
       "      <td>0.510648</td>\n",
       "      <td>0.532</td>\n",
       "      <td>80</td>\n",
       "      <td>20</td>\n",
       "      <td>55</td>\n",
       "      <td>60</td>\n",
       "      <td>47</td>\n",
       "      <td>20</td>\n",
       "    </tr>\n",
       "    <tr>\n",
       "      <th>4</th>\n",
       "      <td>Belgium</td>\n",
       "      <td>2020.0</td>\n",
       "      <td>54679.141805</td>\n",
       "      <td>7.398131</td>\n",
       "      <td>0.586</td>\n",
       "      <td>65</td>\n",
       "      <td>75</td>\n",
       "      <td>54</td>\n",
       "      <td>94</td>\n",
       "      <td>82</td>\n",
       "      <td>57</td>\n",
       "    </tr>\n",
       "  </tbody>\n",
       "</table>\n",
       "</div>"
      ],
      "text/plain": [
       "      country    year           gdp        co2  mean_of_esg  pdi  idv  mas  \\\n",
       "0   Argentina  2020.0  20797.725953   3.405618        0.552   49   46   56   \n",
       "1   Australia  2020.0  53216.468537  14.776137        0.560   38   90   61   \n",
       "2     Austria  2020.0  57235.545869   6.632646        0.613   11   55   79   \n",
       "3  Bangladesh  2020.0   5904.567363   0.510648        0.532   80   20   55   \n",
       "4     Belgium  2020.0  54679.141805   7.398131        0.586   65   75   54   \n",
       "\n",
       "   uai  ltowvs  ivr  \n",
       "0   86      20   62  \n",
       "1   51      21   71  \n",
       "2   70      60   63  \n",
       "3   60      47   20  \n",
       "4   94      82   57  "
      ]
     },
     "execution_count": 178,
     "metadata": {},
     "output_type": "execute_result"
    }
   ],
   "source": [
    "#load and preprocess countries data\n",
    "df_countries = pd.read_csv('countries_all.csv')\n",
    "filtered_df_countries = (df_countries[df_countries['Time'] == 2020]\n",
    "                         .rename(columns={'Country Name' : 'country', \n",
    "                                          'Time' : 'year', \n",
    "                                          'GDP per capita, PPP (current international $) [NY.GDP.PCAP.PP.CD]' : 'gdp', \n",
    "                                          'CO2 emissions (metric tons per capita) [EN.ATM.CO2E.PC]' : 'co2'})\n",
    "                         [['country', 'year', 'gdp', 'co2']])\n",
    "\n",
    "#load and preprocess esg data\n",
    "esg = pd.read_csv('esg.csv')\n",
    "esg.replace('..', np.nan, inplace=True)\n",
    "esg.dropna(inplace=True)\n",
    "\n",
    "#load and preprocess culture data\n",
    "cul = pd.read_csv('culture.csv')\n",
    "cul.replace('#NULL!', np.nan, inplace=True)\n",
    "cul.dropna(inplace=True)\n",
    "\n",
    "#merge all dataframes\n",
    "dfs = [filtered_df_countries, esg, cul]\n",
    "combined_df = reduce(lambda left,right: pd.merge(left,right,on='country'), dfs)\n",
    "for col in combined_df.columns[1:]:\n",
    "    combined_df[col] = pd.to_numeric(combined_df[col], errors='coerce')\n",
    "\n",
    "#sort values and reset index in-place\n",
    "combined_df.sort_values('country', inplace=True)\n",
    "combined_df.reset_index(drop=True, inplace=True)\n",
    "\n",
    "#output\n",
    "combined_df.head(5)\n"
   ]
  },
  {
   "cell_type": "code",
   "execution_count": 179,
   "metadata": {},
   "outputs": [
    {
     "data": {
      "text/html": [
       "<div>\n",
       "<style scoped>\n",
       "    .dataframe tbody tr th:only-of-type {\n",
       "        vertical-align: middle;\n",
       "    }\n",
       "\n",
       "    .dataframe tbody tr th {\n",
       "        vertical-align: top;\n",
       "    }\n",
       "\n",
       "    .dataframe thead th {\n",
       "        text-align: right;\n",
       "    }\n",
       "</style>\n",
       "<table border=\"1\" class=\"dataframe\">\n",
       "  <thead>\n",
       "    <tr style=\"text-align: right;\">\n",
       "      <th></th>\n",
       "      <th>year</th>\n",
       "      <th>gdp</th>\n",
       "      <th>co2</th>\n",
       "      <th>mean_of_esg</th>\n",
       "      <th>pdi</th>\n",
       "      <th>idv</th>\n",
       "      <th>mas</th>\n",
       "      <th>uai</th>\n",
       "      <th>ltowvs</th>\n",
       "      <th>ivr</th>\n",
       "    </tr>\n",
       "  </thead>\n",
       "  <tbody>\n",
       "    <tr>\n",
       "      <th>count</th>\n",
       "      <td>48.0</td>\n",
       "      <td>48.000000</td>\n",
       "      <td>48.000000</td>\n",
       "      <td>48.000000</td>\n",
       "      <td>48.000000</td>\n",
       "      <td>48.000000</td>\n",
       "      <td>48.000000</td>\n",
       "      <td>48.000000</td>\n",
       "      <td>48.000000</td>\n",
       "      <td>48.000000</td>\n",
       "    </tr>\n",
       "    <tr>\n",
       "      <th>mean</th>\n",
       "      <td>2020.0</td>\n",
       "      <td>38216.955744</td>\n",
       "      <td>5.192788</td>\n",
       "      <td>0.575854</td>\n",
       "      <td>56.958333</td>\n",
       "      <td>46.854167</td>\n",
       "      <td>48.395833</td>\n",
       "      <td>67.916667</td>\n",
       "      <td>48.000000</td>\n",
       "      <td>48.125000</td>\n",
       "    </tr>\n",
       "    <tr>\n",
       "      <th>std</th>\n",
       "      <td>0.0</td>\n",
       "      <td>24767.904096</td>\n",
       "      <td>3.157487</td>\n",
       "      <td>0.026567</td>\n",
       "      <td>20.959899</td>\n",
       "      <td>22.955081</td>\n",
       "      <td>19.623845</td>\n",
       "      <td>23.384695</td>\n",
       "      <td>21.027844</td>\n",
       "      <td>21.128407</td>\n",
       "    </tr>\n",
       "    <tr>\n",
       "      <th>min</th>\n",
       "      <td>2020.0</td>\n",
       "      <td>5284.664584</td>\n",
       "      <td>0.510648</td>\n",
       "      <td>0.516000</td>\n",
       "      <td>11.000000</td>\n",
       "      <td>13.000000</td>\n",
       "      <td>5.000000</td>\n",
       "      <td>8.000000</td>\n",
       "      <td>13.000000</td>\n",
       "      <td>0.000000</td>\n",
       "    </tr>\n",
       "    <tr>\n",
       "      <th>25%</th>\n",
       "      <td>2020.0</td>\n",
       "      <td>19434.663125</td>\n",
       "      <td>3.213631</td>\n",
       "      <td>0.553000</td>\n",
       "      <td>39.750000</td>\n",
       "      <td>26.750000</td>\n",
       "      <td>39.500000</td>\n",
       "      <td>50.750000</td>\n",
       "      <td>31.750000</td>\n",
       "      <td>30.750000</td>\n",
       "    </tr>\n",
       "    <tr>\n",
       "      <th>50%</th>\n",
       "      <td>2020.0</td>\n",
       "      <td>35135.711374</td>\n",
       "      <td>4.641445</td>\n",
       "      <td>0.579000</td>\n",
       "      <td>60.500000</td>\n",
       "      <td>46.000000</td>\n",
       "      <td>50.000000</td>\n",
       "      <td>70.000000</td>\n",
       "      <td>47.500000</td>\n",
       "      <td>48.000000</td>\n",
       "    </tr>\n",
       "    <tr>\n",
       "      <th>75%</th>\n",
       "      <td>2020.0</td>\n",
       "      <td>52533.084117</td>\n",
       "      <td>6.889976</td>\n",
       "      <td>0.595000</td>\n",
       "      <td>70.250000</td>\n",
       "      <td>68.250000</td>\n",
       "      <td>61.750000</td>\n",
       "      <td>86.000000</td>\n",
       "      <td>62.250000</td>\n",
       "      <td>65.250000</td>\n",
       "    </tr>\n",
       "    <tr>\n",
       "      <th>max</th>\n",
       "      <td>2020.0</td>\n",
       "      <td>119534.620916</td>\n",
       "      <td>14.776137</td>\n",
       "      <td>0.629000</td>\n",
       "      <td>104.000000</td>\n",
       "      <td>90.000000</td>\n",
       "      <td>95.000000</td>\n",
       "      <td>112.000000</td>\n",
       "      <td>88.000000</td>\n",
       "      <td>97.000000</td>\n",
       "    </tr>\n",
       "  </tbody>\n",
       "</table>\n",
       "</div>"
      ],
      "text/plain": [
       "         year            gdp        co2  mean_of_esg         pdi        idv  \\\n",
       "count    48.0      48.000000  48.000000    48.000000   48.000000  48.000000   \n",
       "mean   2020.0   38216.955744   5.192788     0.575854   56.958333  46.854167   \n",
       "std       0.0   24767.904096   3.157487     0.026567   20.959899  22.955081   \n",
       "min    2020.0    5284.664584   0.510648     0.516000   11.000000  13.000000   \n",
       "25%    2020.0   19434.663125   3.213631     0.553000   39.750000  26.750000   \n",
       "50%    2020.0   35135.711374   4.641445     0.579000   60.500000  46.000000   \n",
       "75%    2020.0   52533.084117   6.889976     0.595000   70.250000  68.250000   \n",
       "max    2020.0  119534.620916  14.776137     0.629000  104.000000  90.000000   \n",
       "\n",
       "             mas         uai     ltowvs        ivr  \n",
       "count  48.000000   48.000000  48.000000  48.000000  \n",
       "mean   48.395833   67.916667  48.000000  48.125000  \n",
       "std    19.623845   23.384695  21.027844  21.128407  \n",
       "min     5.000000    8.000000  13.000000   0.000000  \n",
       "25%    39.500000   50.750000  31.750000  30.750000  \n",
       "50%    50.000000   70.000000  47.500000  48.000000  \n",
       "75%    61.750000   86.000000  62.250000  65.250000  \n",
       "max    95.000000  112.000000  88.000000  97.000000  "
      ]
     },
     "execution_count": 179,
     "metadata": {},
     "output_type": "execute_result"
    }
   ],
   "source": [
    "combined_df.describe()"
   ]
  },
  {
   "cell_type": "markdown",
   "metadata": {},
   "source": [
    "<h5>Test for seasonal variations"
   ]
  },
  {
   "cell_type": "code",
   "execution_count": 180,
   "metadata": {},
   "outputs": [
    {
     "data": {
      "image/png": "[encoded data removed]",
      "text/plain": [
       "<Figure size 1000x600 with 4 Axes>"
      ]
     },
     "metadata": {},
     "output_type": "display_data"
    }
   ],
   "source": [
    "result = seasonal_decompose(combined_df['gdp'], model='additive', period=1)\n",
    "plt.figure(figsize=(10, 6))\n",
    "plt.subplot(411)\n",
    "plt.plot(combined_df['gdp'], label='Original')\n",
    "plt.legend(loc='upper left')\n",
    "plt.subplot(412)\n",
    "plt.plot(result.trend, label='Trend')\n",
    "plt.legend(loc='upper left')\n",
    "plt.subplot(413)\n",
    "plt.plot(result.seasonal, label='Seasonal')\n",
    "plt.legend(loc='upper left')\n",
    "plt.subplot(414)\n",
    "plt.plot(result.resid, label='Residual')\n",
    "plt.legend(loc='upper left')\n",
    "plt.tight_layout()\n",
    "plt.show()"
   ]
  },
  {
   "cell_type": "markdown",
   "metadata": {},
   "source": [
    "<h5>Histogram to test if logs are needed"
   ]
  },
  {
   "cell_type": "code",
   "execution_count": 181,
   "metadata": {},
   "outputs": [
    {
     "data": {
      "image/png": "[encoded data removed]",
      "text/plain": [
       "<Figure size 1800x300 with 3 Axes>"
      ]
     },
     "metadata": {},
     "output_type": "display_data"
    }
   ],
   "source": [
    "plt.figure(figsize=(18, 3))\n",
    "plt.subplot(1, 3, 1)\n",
    "plt.hist(combined_df['gdp'], bins=30, color='skyblue', edgecolor='black')\n",
    "plt.title('GDP Histogram')\n",
    "plt.subplot(1, 3, 2)\n",
    "plt.hist(combined_df['co2'], bins=30, color='skyblue', edgecolor='black')\n",
    "plt.title('CO2 Histogram')\n",
    "plt.subplot(1, 3, 3)\n",
    "plt.hist(combined_df['mean_of_esg'], bins=30, color='skyblue', edgecolor='black')\n",
    "plt.title('ESG Histogram')\n",
    "plt.show()"
   ]
  },
  {
   "cell_type": "markdown",
   "metadata": {},
   "source": [
    "<h5>Boxplots to test if logs are needed"
   ]
  },
  {
   "cell_type": "code",
   "execution_count": 182,
   "metadata": {},
   "outputs": [
    {
     "data": {
      "image/png": "[encoded data removed]",
      "text/plain": [
       "<Figure size 1800x300 with 3 Axes>"
      ]
     },
     "metadata": {},
     "output_type": "display_data"
    }
   ],
   "source": [
    "plt.figure(figsize=(18, 3))\n",
    "plt.subplot(1, 3, 1)\n",
    "plt.boxplot(combined_df['gdp'], vert=False)\n",
    "plt.title('GDP Boxplot')\n",
    "plt.subplot(1, 3, 2)\n",
    "plt.boxplot(combined_df['co2'], vert=False)\n",
    "plt.title('CO2 Boxplot')\n",
    "plt.subplot(1, 3, 3)\n",
    "plt.boxplot(combined_df['mean_of_esg'], vert=False)\n",
    "plt.title('ESG Boxplot')\n",
    "plt.show()"
   ]
  },
  {
   "cell_type": "markdown",
   "metadata": {},
   "source": [
    "<h5>Calcultating Skewness for each variable"
   ]
  },
  {
   "cell_type": "code",
   "execution_count": 183,
   "metadata": {},
   "outputs": [
    {
     "name": "stdout",
     "output_type": "stream",
     "text": [
      "Skewness of gdp: 1.1265217820963738\n",
      "Skewness of co2: 1.0343439580075529\n",
      "Skewness of mean_of_esg: -0.23462995591570063\n",
      "Shapiro P-value gdp: 0.002279269276186824\n",
      "Shapiro P-value co2: 0.0028381049633026123\n",
      "Shapiro P-value mean_of_esg: 0.6339701414108276\n"
     ]
    }
   ],
   "source": [
    "#Skewness test\n",
    "skewness_results = {}\n",
    "for column in combined_df.columns[2:5]:\n",
    "    skewness_results[column] = skew(combined_df[column])\n",
    "for variable, skewness_value in skewness_results.items():\n",
    "    print(f\"Skewness of {variable}: {skewness_value}\")\n",
    "\n",
    "#Shapiro test\n",
    "shapiro_results = {}\n",
    "for column in combined_df.columns[2:5]:\n",
    "    stat, p_value = shapiro(combined_df[column])\n",
    "    shapiro_results[column] = {'Statistic': stat, 'P-value': p_value}\n",
    "for variable, results in shapiro_results.items():\n",
    "    print(f\"Shapiro P-value {variable}: {results['P-value']}\")"
   ]
  },
  {
   "cell_type": "markdown",
   "metadata": {},
   "source": [
    "<h5>Taking logs of CO2 and GDP"
   ]
  },
  {
   "cell_type": "code",
   "execution_count": 184,
   "metadata": {},
   "outputs": [
    {
     "data": {
      "text/html": [
       "<div>\n",
       "<style scoped>\n",
       "    .dataframe tbody tr th:only-of-type {\n",
       "        vertical-align: middle;\n",
       "    }\n",
       "\n",
       "    .dataframe tbody tr th {\n",
       "        vertical-align: top;\n",
       "    }\n",
       "\n",
       "    .dataframe thead th {\n",
       "        text-align: right;\n",
       "    }\n",
       "</style>\n",
       "<table border=\"1\" class=\"dataframe\">\n",
       "  <thead>\n",
       "    <tr style=\"text-align: right;\">\n",
       "      <th></th>\n",
       "      <th>country</th>\n",
       "      <th>year</th>\n",
       "      <th>gdp</th>\n",
       "      <th>co2</th>\n",
       "      <th>mean_of_esg</th>\n",
       "      <th>pdi</th>\n",
       "      <th>idv</th>\n",
       "      <th>mas</th>\n",
       "      <th>uai</th>\n",
       "      <th>ltowvs</th>\n",
       "      <th>ivr</th>\n",
       "      <th>log_gdp</th>\n",
       "      <th>log_co2</th>\n",
       "    </tr>\n",
       "  </thead>\n",
       "  <tbody>\n",
       "    <tr>\n",
       "      <th>0</th>\n",
       "      <td>Argentina</td>\n",
       "      <td>2020.0</td>\n",
       "      <td>20797.725953</td>\n",
       "      <td>3.405618</td>\n",
       "      <td>0.552</td>\n",
       "      <td>49</td>\n",
       "      <td>46</td>\n",
       "      <td>56</td>\n",
       "      <td>86</td>\n",
       "      <td>20</td>\n",
       "      <td>62</td>\n",
       "      <td>9.942599</td>\n",
       "      <td>1.225426</td>\n",
       "    </tr>\n",
       "    <tr>\n",
       "      <th>1</th>\n",
       "      <td>Australia</td>\n",
       "      <td>2020.0</td>\n",
       "      <td>53216.468537</td>\n",
       "      <td>14.776137</td>\n",
       "      <td>0.560</td>\n",
       "      <td>38</td>\n",
       "      <td>90</td>\n",
       "      <td>61</td>\n",
       "      <td>51</td>\n",
       "      <td>21</td>\n",
       "      <td>71</td>\n",
       "      <td>10.882123</td>\n",
       "      <td>2.693014</td>\n",
       "    </tr>\n",
       "    <tr>\n",
       "      <th>2</th>\n",
       "      <td>Austria</td>\n",
       "      <td>2020.0</td>\n",
       "      <td>57235.545869</td>\n",
       "      <td>6.632646</td>\n",
       "      <td>0.613</td>\n",
       "      <td>11</td>\n",
       "      <td>55</td>\n",
       "      <td>79</td>\n",
       "      <td>70</td>\n",
       "      <td>60</td>\n",
       "      <td>63</td>\n",
       "      <td>10.954930</td>\n",
       "      <td>1.892004</td>\n",
       "    </tr>\n",
       "    <tr>\n",
       "      <th>3</th>\n",
       "      <td>Bangladesh</td>\n",
       "      <td>2020.0</td>\n",
       "      <td>5904.567363</td>\n",
       "      <td>0.510648</td>\n",
       "      <td>0.532</td>\n",
       "      <td>80</td>\n",
       "      <td>20</td>\n",
       "      <td>55</td>\n",
       "      <td>60</td>\n",
       "      <td>47</td>\n",
       "      <td>20</td>\n",
       "      <td>8.683481</td>\n",
       "      <td>-0.672076</td>\n",
       "    </tr>\n",
       "    <tr>\n",
       "      <th>4</th>\n",
       "      <td>Belgium</td>\n",
       "      <td>2020.0</td>\n",
       "      <td>54679.141805</td>\n",
       "      <td>7.398131</td>\n",
       "      <td>0.586</td>\n",
       "      <td>65</td>\n",
       "      <td>75</td>\n",
       "      <td>54</td>\n",
       "      <td>94</td>\n",
       "      <td>82</td>\n",
       "      <td>57</td>\n",
       "      <td>10.909238</td>\n",
       "      <td>2.001227</td>\n",
       "    </tr>\n",
       "  </tbody>\n",
       "</table>\n",
       "</div>"
      ],
      "text/plain": [
       "      country    year           gdp        co2  mean_of_esg  pdi  idv  mas  \\\n",
       "0   Argentina  2020.0  20797.725953   3.405618        0.552   49   46   56   \n",
       "1   Australia  2020.0  53216.468537  14.776137        0.560   38   90   61   \n",
       "2     Austria  2020.0  57235.545869   6.632646        0.613   11   55   79   \n",
       "3  Bangladesh  2020.0   5904.567363   0.510648        0.532   80   20   55   \n",
       "4     Belgium  2020.0  54679.141805   7.398131        0.586   65   75   54   \n",
       "\n",
       "   uai  ltowvs  ivr    log_gdp   log_co2  \n",
       "0   86      20   62   9.942599  1.225426  \n",
       "1   51      21   71  10.882123  2.693014  \n",
       "2   70      60   63  10.954930  1.892004  \n",
       "3   60      47   20   8.683481 -0.672076  \n",
       "4   94      82   57  10.909238  2.001227  "
      ]
     },
     "execution_count": 184,
     "metadata": {},
     "output_type": "execute_result"
    }
   ],
   "source": [
    "combined_df['log_gdp'] = np.log(combined_df['gdp'])\n",
    "combined_df['log_co2'] = np.log(combined_df['co2'])\n",
    "combined_df.head()"
   ]
  },
  {
   "cell_type": "code",
   "execution_count": 185,
   "metadata": {},
   "outputs": [
    {
     "data": {
      "image/png": "[encoded data removed]",
      "text/plain": [
       "<Figure size 1800x300 with 3 Axes>"
      ]
     },
     "metadata": {},
     "output_type": "display_data"
    }
   ],
   "source": [
    "plt.figure(figsize=(18, 3))\n",
    "plt.subplot(1, 3, 1)\n",
    "plt.boxplot(combined_df['log_gdp'], vert=False)\n",
    "plt.title('GDP Boxplot')\n",
    "plt.subplot(1, 3, 2)\n",
    "plt.boxplot(combined_df['log_co2'], vert=False)\n",
    "plt.title('CO2 Boxplot')\n",
    "plt.subplot(1, 3, 3)\n",
    "plt.boxplot(combined_df['mean_of_esg'], vert=False)\n",
    "plt.title('ESG Boxplot')\n",
    "plt.show()"
   ]
  },
  {
   "cell_type": "code",
   "execution_count": 186,
   "metadata": {},
   "outputs": [
    {
     "name": "stdout",
     "output_type": "stream",
     "text": [
      "Skewness of log_gdp: -0.608135027686305\n",
      "Skewness of log_co2: -0.804045466261342\n",
      "Shapiro P-value log_gdp: 0.07516957074403763\n",
      "Shapiro P-value log_co2: 0.02842302806675434\n"
     ]
    }
   ],
   "source": [
    "#Skewness test\n",
    "skewness_results = {}\n",
    "for column in combined_df.columns[11:]:\n",
    "    skewness_results[column] = skew(combined_df[column])\n",
    "for variable, skewness_value in skewness_results.items():\n",
    "    print(f\"Skewness of {variable}: {skewness_value}\")\n",
    "\n",
    "#Shapiro test\n",
    "shapiro_results = {}\n",
    "for column in combined_df.columns[11:]:\n",
    "    stat, p_value = shapiro(combined_df[column])\n",
    "    shapiro_results[column] = {'Statistic': stat, 'P-value': p_value}\n",
    "for variable, results in shapiro_results.items():\n",
    "    print(f\"Shapiro P-value {variable}: {results['P-value']}\")"
   ]
  },
  {
   "cell_type": "markdown",
   "metadata": {},
   "source": [
    "<h3>Kuznets OLS"
   ]
  },
  {
   "cell_type": "code",
   "execution_count": 187,
   "metadata": {},
   "outputs": [
    {
     "name": "stdout",
     "output_type": "stream",
     "text": [
      "                            OLS Regression Results                            \n",
      "==============================================================================\n",
      "Dep. Variable:                log_co2   R-squared:                       0.661\n",
      "Model:                            OLS   Adj. R-squared:                  0.646\n",
      "Method:                 Least Squares   F-statistic:                     43.87\n",
      "Date:                Thu, 29 Feb 2024   Prob (F-statistic):           2.69e-11\n",
      "Time:                        09:45:38   Log-Likelihood:                -25.354\n",
      "No. Observations:                  48   AIC:                             56.71\n",
      "Df Residuals:                      45   BIC:                             62.32\n",
      "Df Model:                           2                                         \n",
      "Covariance Type:            nonrobust                                         \n",
      "===================================================================================\n",
      "                      coef    std err          t      P>|t|      [0.025      0.975]\n",
      "-----------------------------------------------------------------------------------\n",
      "Intercept         -29.7381      9.476     -3.138      0.003     -48.824     -10.652\n",
      "log_gdp             5.4189      1.882      2.879      0.006       1.628       9.210\n",
      "log_gdp_squared    -0.2312      0.093     -2.482      0.017      -0.419      -0.044\n",
      "==============================================================================\n",
      "Omnibus:                        1.868   Durbin-Watson:                   2.190\n",
      "Prob(Omnibus):                  0.393   Jarque-Bera (JB):                1.651\n",
      "Skew:                           0.444   Prob(JB):                        0.438\n",
      "Kurtosis:                       2.810   Cond. No.                     1.71e+04\n",
      "==============================================================================\n",
      "\n",
      "Notes:\n",
      "[1] Standard Errors assume that the covariance matrix of the errors is correctly specified.\n",
      "[2] The condition number is large, 1.71e+04. This might indicate that there are\n",
      "strong multicollinearity or other numerical problems.\n"
     ]
    }
   ],
   "source": [
    "combined_df['log_gdp_squared'] = combined_df['log_gdp']**2\n",
    "formula = 'log_co2 ~ log_gdp + log_gdp_squared'\n",
    "model = smf.ols(formula, data=combined_df)\n",
    "ols = model.fit()\n",
    "\n",
    "print(ols.summary())"
   ]
  },
  {
   "cell_type": "markdown",
   "metadata": {},
   "source": [
    "<h3>EKC, ESG Linear representation"
   ]
  },
  {
   "cell_type": "code",
   "execution_count": 188,
   "metadata": {},
   "outputs": [
    {
     "name": "stdout",
     "output_type": "stream",
     "text": [
      "                            OLS Regression Results                            \n",
      "==============================================================================\n",
      "Dep. Variable:                log_co2   R-squared:                       0.658\n",
      "Model:                            OLS   Adj. R-squared:                  0.642\n",
      "Method:                 Least Squares   F-statistic:                     43.23\n",
      "Date:                Thu, 29 Feb 2024   Prob (F-statistic):           3.35e-11\n",
      "Time:                        09:45:38   Log-Likelihood:                -25.588\n",
      "No. Observations:                  48   AIC:                             57.18\n",
      "Df Residuals:                      45   BIC:                             62.79\n",
      "Df Model:                           2                                         \n",
      "Covariance Type:            nonrobust                                         \n",
      "===============================================================================\n",
      "                  coef    std err          t      P>|t|      [0.025      0.975]\n",
      "-------------------------------------------------------------------------------\n",
      "Intercept      -3.7041      1.396     -2.654      0.011      -6.516      -0.893\n",
      "mean_of_esg    -9.3119      3.912     -2.381      0.022     -17.191      -1.433\n",
      "log_gdp         1.0180      0.140      7.281      0.000       0.736       1.300\n",
      "==============================================================================\n",
      "Omnibus:                        0.611   Durbin-Watson:                   2.220\n",
      "Prob(Omnibus):                  0.737   Jarque-Bera (JB):                0.474\n",
      "Skew:                           0.237   Prob(JB):                        0.789\n",
      "Kurtosis:                       2.890   Cond. No.                         689.\n",
      "==============================================================================\n",
      "\n",
      "Notes:\n",
      "[1] Standard Errors assume that the covariance matrix of the errors is correctly specified.\n"
     ]
    }
   ],
   "source": [
    "formula = 'log_co2 ~ mean_of_esg + log_gdp'\n",
    "model = smf.ols(formula, data=combined_df)\n",
    "ols = model.fit()\n",
    "\n",
    "print(ols.summary())"
   ]
  },
  {
   "cell_type": "markdown",
   "metadata": {},
   "source": [
    "<h3>EKC, ESG Quadratic representation"
   ]
  },
  {
   "cell_type": "code",
   "execution_count": 189,
   "metadata": {},
   "outputs": [
    {
     "name": "stdout",
     "output_type": "stream",
     "text": [
      "                            OLS Regression Results                            \n",
      "==============================================================================\n",
      "Dep. Variable:                log_co2   R-squared:                       0.732\n",
      "Model:                            OLS   Adj. R-squared:                  0.714\n",
      "Method:                 Least Squares   F-statistic:                     40.09\n",
      "Date:                Thu, 29 Feb 2024   Prob (F-statistic):           1.20e-12\n",
      "Time:                        09:45:38   Log-Likelihood:                -19.701\n",
      "No. Observations:                  48   AIC:                             47.40\n",
      "Df Residuals:                      44   BIC:                             54.89\n",
      "Df Model:                           3                                         \n",
      "Covariance Type:            nonrobust                                         \n",
      "===================================================================================\n",
      "                      coef    std err          t      P>|t|      [0.025      0.975]\n",
      "-----------------------------------------------------------------------------------\n",
      "Intercept         -33.4126      8.586     -3.892      0.000     -50.717     -16.109\n",
      "mean_of_esg       -12.3189      3.603     -3.419      0.001     -19.581      -5.057\n",
      "log_gdp             7.1918      1.770      4.064      0.000       3.625      10.758\n",
      "log_gdp_squared    -0.3015      0.086     -3.497      0.001      -0.475      -0.128\n",
      "==============================================================================\n",
      "Omnibus:                        0.343   Durbin-Watson:                   2.296\n",
      "Prob(Omnibus):                  0.843   Jarque-Bera (JB):                0.491\n",
      "Skew:                           0.166   Prob(JB):                        0.782\n",
      "Kurtosis:                       2.632   Cond. No.                     1.73e+04\n",
      "==============================================================================\n",
      "\n",
      "Notes:\n",
      "[1] Standard Errors assume that the covariance matrix of the errors is correctly specified.\n",
      "[2] The condition number is large, 1.73e+04. This might indicate that there are\n",
      "strong multicollinearity or other numerical problems.\n"
     ]
    }
   ],
   "source": [
    "formula = 'log_co2 ~ mean_of_esg + log_gdp + log_gdp_squared'\n",
    "model = smf.ols(formula, data=combined_df)\n",
    "ols = model.fit()\n",
    "\n",
    "print(ols.summary())"
   ]
  },
  {
   "cell_type": "markdown",
   "metadata": {},
   "source": [
    "<h3>EKC, ESG Log transformation"
   ]
  },
  {
   "cell_type": "code",
   "execution_count": 190,
   "metadata": {},
   "outputs": [
    {
     "name": "stdout",
     "output_type": "stream",
     "text": [
      "                            OLS Regression Results                            \n",
      "==============================================================================\n",
      "Dep. Variable:                    co2   R-squared:                       0.496\n",
      "Model:                            OLS   Adj. R-squared:                  0.474\n",
      "Method:                 Least Squares   F-statistic:                     22.14\n",
      "Date:                Thu, 29 Feb 2024   Prob (F-statistic):           2.02e-07\n",
      "Time:                        09:45:38   Log-Likelihood:                -106.35\n",
      "No. Observations:                  48   AIC:                             218.7\n",
      "Df Residuals:                      45   BIC:                             224.3\n",
      "Df Model:                           2                                         \n",
      "Covariance Type:            nonrobust                                         \n",
      "===============================================================================\n",
      "                  coef    std err          t      P>|t|      [0.025      0.975]\n",
      "-------------------------------------------------------------------------------\n",
      "Intercept      -5.3334      7.509     -0.710      0.481     -20.457       9.790\n",
      "mean_of_esg   -61.4495     21.041     -2.920      0.005    -103.829     -19.070\n",
      "log_gdp         4.4492      0.752      5.916      0.000       2.934       5.964\n",
      "==============================================================================\n",
      "Omnibus:                       14.930   Durbin-Watson:                   2.125\n",
      "Prob(Omnibus):                  0.001   Jarque-Bera (JB):               17.724\n",
      "Skew:                           1.128   Prob(JB):                     0.000142\n",
      "Kurtosis:                       4.941   Cond. No.                         689.\n",
      "==============================================================================\n",
      "\n",
      "Notes:\n",
      "[1] Standard Errors assume that the covariance matrix of the errors is correctly specified.\n"
     ]
    }
   ],
   "source": [
    "formula = 'co2 ~ mean_of_esg + log_gdp'\n",
    "model = smf.ols(formula, data=combined_df)\n",
    "ols = model.fit()\n",
    "\n",
    "print(ols.summary())"
   ]
  },
  {
   "cell_type": "markdown",
   "metadata": {},
   "source": [
    "<h3>Culture, EKC, ESG"
   ]
  },
  {
   "cell_type": "markdown",
   "metadata": {},
   "source": [
    "<h6>CULTURE = Power"
   ]
  },
  {
   "cell_type": "code",
   "execution_count": 191,
   "metadata": {},
   "outputs": [
    {
     "name": "stdout",
     "output_type": "stream",
     "text": [
      "                            OLS Regression Results                            \n",
      "==============================================================================\n",
      "Dep. Variable:                log_co2   R-squared:                       0.255\n",
      "Model:                            OLS   Adj. R-squared:                  0.222\n",
      "Method:                 Least Squares   F-statistic:                     7.708\n",
      "Date:                Thu, 29 Feb 2024   Prob (F-statistic):            0.00132\n",
      "Time:                        09:45:39   Log-Likelihood:                -44.245\n",
      "No. Observations:                  48   AIC:                             94.49\n",
      "Df Residuals:                      45   BIC:                             100.1\n",
      "Df Model:                           2                                         \n",
      "Covariance Type:            nonrobust                                         \n",
      "=================================================================================\n",
      "                    coef    std err          t      P>|t|      [0.025      0.975]\n",
      "---------------------------------------------------------------------------------\n",
      "Intercept        -6.6787      2.500     -2.672      0.010     -11.714      -1.644\n",
      "mean_of_esg      13.9776      4.031      3.467      0.001       5.858      22.097\n",
      "log_gdp_x_pdi     0.0001      0.001      0.219      0.828      -0.001       0.001\n",
      "==============================================================================\n",
      "Omnibus:                        0.349   Durbin-Watson:                   1.983\n",
      "Prob(Omnibus):                  0.840   Jarque-Bera (JB):                0.031\n",
      "Skew:                           0.039   Prob(JB):                        0.985\n",
      "Kurtosis:                       3.095   Cond. No.                     3.19e+04\n",
      "==============================================================================\n",
      "\n",
      "Notes:\n",
      "[1] Standard Errors assume that the covariance matrix of the errors is correctly specified.\n",
      "[2] The condition number is large, 3.19e+04. This might indicate that there are\n",
      "strong multicollinearity or other numerical problems.\n"
     ]
    }
   ],
   "source": [
    "combined_df['log_gdp_x_pdi'] = combined_df['log_gdp'] * combined_df['pdi']\n",
    "formula = 'log_co2 ~ mean_of_esg + log_gdp_x_pdi'\n",
    "model = smf.ols(formula, data=combined_df)\n",
    "ols = model.fit()\n",
    "\n",
    "print(ols.summary())"
   ]
  },
  {
   "cell_type": "markdown",
   "metadata": {},
   "source": [
    "<h6>CULTURE = Individualism"
   ]
  },
  {
   "cell_type": "code",
   "execution_count": 192,
   "metadata": {},
   "outputs": [
    {
     "name": "stdout",
     "output_type": "stream",
     "text": [
      "                            OLS Regression Results                            \n",
      "==============================================================================\n",
      "Dep. Variable:                log_co2   R-squared:                       0.314\n",
      "Model:                            OLS   Adj. R-squared:                  0.284\n",
      "Method:                 Least Squares   F-statistic:                     10.30\n",
      "Date:                Thu, 29 Feb 2024   Prob (F-statistic):           0.000207\n",
      "Time:                        09:45:39   Log-Likelihood:                -42.269\n",
      "No. Observations:                  48   AIC:                             90.54\n",
      "Df Residuals:                      45   BIC:                             96.15\n",
      "Df Model:                           2                                         \n",
      "Covariance Type:            nonrobust                                         \n",
      "=================================================================================\n",
      "                    coef    std err          t      P>|t|      [0.025      0.975]\n",
      "---------------------------------------------------------------------------------\n",
      "Intercept        -3.5571      2.373     -1.499      0.141      -8.336       1.222\n",
      "mean_of_esg       7.9214      4.355      1.819      0.076      -0.851      16.694\n",
      "log_gdp_x_idv     0.0009      0.000      1.978      0.054    -1.6e-05       0.002\n",
      "==============================================================================\n",
      "Omnibus:                        0.082   Durbin-Watson:                   1.841\n",
      "Prob(Omnibus):                  0.960   Jarque-Bera (JB):                0.060\n",
      "Skew:                           0.060   Prob(JB):                        0.970\n",
      "Kurtosis:                       2.874   Cond. No.                     3.17e+04\n",
      "==============================================================================\n",
      "\n",
      "Notes:\n",
      "[1] Standard Errors assume that the covariance matrix of the errors is correctly specified.\n",
      "[2] The condition number is large, 3.17e+04. This might indicate that there are\n",
      "strong multicollinearity or other numerical problems.\n"
     ]
    }
   ],
   "source": [
    "combined_df['log_gdp_x_idv'] = combined_df['log_gdp'] * combined_df['idv']\n",
    "formula = 'log_co2 ~ mean_of_esg + log_gdp_x_idv'\n",
    "model = smf.ols(formula, data=combined_df)\n",
    "ols = model.fit()\n",
    "\n",
    "print(ols.summary())"
   ]
  },
  {
   "cell_type": "markdown",
   "metadata": {},
   "source": [
    "<h6>CULTURE = Masculinity"
   ]
  },
  {
   "cell_type": "code",
   "execution_count": 193,
   "metadata": {},
   "outputs": [
    {
     "name": "stdout",
     "output_type": "stream",
     "text": [
      "                            OLS Regression Results                            \n",
      "==============================================================================\n",
      "Dep. Variable:                log_co2   R-squared:                       0.313\n",
      "Model:                            OLS   Adj. R-squared:                  0.283\n",
      "Method:                 Least Squares   F-statistic:                     10.27\n",
      "Date:                Thu, 29 Feb 2024   Prob (F-statistic):           0.000212\n",
      "Time:                        09:45:39   Log-Likelihood:                -42.292\n",
      "No. Observations:                  48   AIC:                             90.58\n",
      "Df Residuals:                      45   BIC:                             96.20\n",
      "Df Model:                           2                                         \n",
      "Covariance Type:            nonrobust                                         \n",
      "=================================================================================\n",
      "                    coef    std err          t      P>|t|      [0.025      0.975]\n",
      "---------------------------------------------------------------------------------\n",
      "Intercept        -7.2654      1.965     -3.697      0.001     -11.224      -3.307\n",
      "mean_of_esg      14.3922      3.341      4.308      0.000       7.663      21.121\n",
      "log_gdp_x_mas     0.0008      0.000      1.966      0.055   -2.04e-05       0.002\n",
      "==============================================================================\n",
      "Omnibus:                        0.127   Durbin-Watson:                   1.923\n",
      "Prob(Omnibus):                  0.939   Jarque-Bera (JB):                0.006\n",
      "Skew:                          -0.016   Prob(JB):                        0.997\n",
      "Kurtosis:                       2.954   Cond. No.                     2.40e+04\n",
      "==============================================================================\n",
      "\n",
      "Notes:\n",
      "[1] Standard Errors assume that the covariance matrix of the errors is correctly specified.\n",
      "[2] The condition number is large, 2.4e+04. This might indicate that there are\n",
      "strong multicollinearity or other numerical problems.\n"
     ]
    }
   ],
   "source": [
    "combined_df['log_gdp_x_mas'] = combined_df['log_gdp'] * combined_df['mas']\n",
    "formula = 'log_co2 ~ mean_of_esg + log_gdp_x_mas'\n",
    "model = smf.ols(formula, data=combined_df)\n",
    "ols = model.fit()\n",
    "\n",
    "print(ols.summary())"
   ]
  },
  {
   "cell_type": "markdown",
   "metadata": {},
   "source": [
    "<h6>CULTURE = Uncertainty"
   ]
  },
  {
   "cell_type": "code",
   "execution_count": 194,
   "metadata": {},
   "outputs": [
    {
     "name": "stdout",
     "output_type": "stream",
     "text": [
      "                            OLS Regression Results                            \n",
      "==============================================================================\n",
      "Dep. Variable:                log_co2   R-squared:                       0.256\n",
      "Model:                            OLS   Adj. R-squared:                  0.223\n",
      "Method:                 Least Squares   F-statistic:                     7.749\n",
      "Date:                Thu, 29 Feb 2024   Prob (F-statistic):            0.00128\n",
      "Time:                        09:45:39   Log-Likelihood:                -44.213\n",
      "No. Observations:                  48   AIC:                             94.43\n",
      "Df Residuals:                      45   BIC:                             100.0\n",
      "Df Model:                           2                                         \n",
      "Covariance Type:            nonrobust                                         \n",
      "=================================================================================\n",
      "                    coef    std err          t      P>|t|      [0.025      0.975]\n",
      "---------------------------------------------------------------------------------\n",
      "Intercept        -6.3334      1.987     -3.187      0.003     -10.336      -2.331\n",
      "mean_of_esg      13.6478      3.468      3.935      0.000       6.663      20.633\n",
      "log_gdp_x_uai    -0.0001      0.000     -0.329      0.743      -0.001       0.001\n",
      "==============================================================================\n",
      "Omnibus:                        0.250   Durbin-Watson:                   1.970\n",
      "Prob(Omnibus):                  0.883   Jarque-Bera (JB):                0.009\n",
      "Skew:                          -0.027   Prob(JB):                        0.995\n",
      "Kurtosis:                       3.040   Cond. No.                     3.26e+04\n",
      "==============================================================================\n",
      "\n",
      "Notes:\n",
      "[1] Standard Errors assume that the covariance matrix of the errors is correctly specified.\n",
      "[2] The condition number is large, 3.26e+04. This might indicate that there are\n",
      "strong multicollinearity or other numerical problems.\n"
     ]
    }
   ],
   "source": [
    "combined_df['log_gdp_x_uai'] = combined_df['log_gdp'] * combined_df['uai']\n",
    "formula = 'log_co2 ~ mean_of_esg + log_gdp_x_uai'\n",
    "model = smf.ols(formula, data=combined_df)\n",
    "ols = model.fit()\n",
    "\n",
    "print(ols.summary())"
   ]
  },
  {
   "cell_type": "markdown",
   "metadata": {},
   "source": [
    "<h6>CULTURE = Long-term Orientation"
   ]
  },
  {
   "cell_type": "code",
   "execution_count": 195,
   "metadata": {},
   "outputs": [
    {
     "name": "stdout",
     "output_type": "stream",
     "text": [
      "                            OLS Regression Results                            \n",
      "==============================================================================\n",
      "Dep. Variable:                log_co2   R-squared:                       0.275\n",
      "Model:                            OLS   Adj. R-squared:                  0.242\n",
      "Method:                 Least Squares   F-statistic:                     8.521\n",
      "Date:                Thu, 29 Feb 2024   Prob (F-statistic):           0.000728\n",
      "Time:                        09:45:39   Log-Likelihood:                -43.608\n",
      "No. Observations:                  48   AIC:                             93.22\n",
      "Df Residuals:                      45   BIC:                             98.83\n",
      "Df Model:                           2                                         \n",
      "Covariance Type:            nonrobust                                         \n",
      "====================================================================================\n",
      "                       coef    std err          t      P>|t|      [0.025      0.975]\n",
      "------------------------------------------------------------------------------------\n",
      "Intercept           -5.6165      2.067     -2.717      0.009      -9.780      -1.453\n",
      "mean_of_esg         11.8352      3.720      3.181      0.003       4.342      19.328\n",
      "log_gdp_x_ltowvs     0.0005      0.000      1.122      0.268      -0.000       0.001\n",
      "==============================================================================\n",
      "Omnibus:                        1.324   Durbin-Watson:                   1.930\n",
      "Prob(Omnibus):                  0.516   Jarque-Bera (JB):                0.573\n",
      "Skew:                           0.158   Prob(JB):                        0.751\n",
      "Kurtosis:                       3.432   Cond. No.                     2.61e+04\n",
      "==============================================================================\n",
      "\n",
      "Notes:\n",
      "[1] Standard Errors assume that the covariance matrix of the errors is correctly specified.\n",
      "[2] The condition number is large, 2.61e+04. This might indicate that there are\n",
      "strong multicollinearity or other numerical problems.\n"
     ]
    }
   ],
   "source": [
    "combined_df['log_gdp_x_ltowvs'] = combined_df['log_gdp'] * combined_df['ltowvs']\n",
    "formula = 'log_co2 ~ mean_of_esg + log_gdp_x_ltowvs'\n",
    "model = smf.ols(formula, data=combined_df)\n",
    "ols = model.fit()\n",
    "\n",
    "print(ols.summary())"
   ]
  },
  {
   "cell_type": "markdown",
   "metadata": {},
   "source": [
    "<h6>CULTURE = Indulgence"
   ]
  },
  {
   "cell_type": "code",
   "execution_count": 196,
   "metadata": {},
   "outputs": [
    {
     "name": "stdout",
     "output_type": "stream",
     "text": [
      "                            OLS Regression Results                            \n",
      "==============================================================================\n",
      "Dep. Variable:                log_co2   R-squared:                       0.294\n",
      "Model:                            OLS   Adj. R-squared:                  0.262\n",
      "Method:                 Least Squares   F-statistic:                     9.364\n",
      "Date:                Thu, 29 Feb 2024   Prob (F-statistic):           0.000398\n",
      "Time:                        09:45:40   Log-Likelihood:                -42.964\n",
      "No. Observations:                  48   AIC:                             91.93\n",
      "Df Residuals:                      45   BIC:                             97.54\n",
      "Df Model:                           2                                         \n",
      "Covariance Type:            nonrobust                                         \n",
      "=================================================================================\n",
      "                    coef    std err          t      P>|t|      [0.025      0.975]\n",
      "---------------------------------------------------------------------------------\n",
      "Intercept        -5.3885      2.028     -2.657      0.011      -9.473      -1.304\n",
      "mean_of_esg      11.2679      3.646      3.090      0.003       3.924      18.612\n",
      "log_gdp_x_ivr     0.0007      0.000      1.586      0.120      -0.000       0.002\n",
      "==============================================================================\n",
      "Omnibus:                        0.197   Durbin-Watson:                   1.995\n",
      "Prob(Omnibus):                  0.906   Jarque-Bera (JB):                0.291\n",
      "Skew:                          -0.140   Prob(JB):                        0.865\n",
      "Kurtosis:                       2.741   Cond. No.                     2.60e+04\n",
      "==============================================================================\n",
      "\n",
      "Notes:\n",
      "[1] Standard Errors assume that the covariance matrix of the errors is correctly specified.\n",
      "[2] The condition number is large, 2.6e+04. This might indicate that there are\n",
      "strong multicollinearity or other numerical problems.\n"
     ]
    }
   ],
   "source": [
    "combined_df['log_gdp_x_ivr'] = combined_df['log_gdp'] * combined_df['ivr']\n",
    "formula = 'log_co2 ~ mean_of_esg + log_gdp_x_ivr'\n",
    "model = smf.ols(formula, data=combined_df)\n",
    "ols = model.fit()\n",
    "\n",
    "print(ols.summary())"
   ]
  },
  {
   "cell_type": "markdown",
   "metadata": {},
   "source": [
    "<h3>Cluster Analysis"
   ]
  },
  {
   "cell_type": "code",
   "execution_count": 197,
   "metadata": {},
   "outputs": [
    {
     "name": "stdout",
     "output_type": "stream",
     "text": [
      "                            OLS Regression Results                            \n",
      "==============================================================================\n",
      "Dep. Variable:                log_co2   R-squared:                       0.658\n",
      "Model:                            OLS   Adj. R-squared:                  0.635\n",
      "Method:                 Least Squares   F-statistic:                     28.22\n",
      "Date:                Thu, 29 Feb 2024   Prob (F-statistic):           2.48e-10\n",
      "Time:                        09:46:04   Log-Likelihood:                -25.566\n",
      "No. Observations:                  48   AIC:                             59.13\n",
      "Df Residuals:                      44   BIC:                             66.62\n",
      "Df Model:                           3                                         \n",
      "Covariance Type:            nonrobust                                         \n",
      "=================================================================================\n",
      "                    coef    std err          t      P>|t|      [0.025      0.975]\n",
      "---------------------------------------------------------------------------------\n",
      "Intercept        -3.7676      1.447     -2.604      0.013      -6.684      -0.852\n",
      "mean_of_esg      -9.3276      3.955     -2.358      0.023     -17.298      -1.357\n",
      "log_gdp           1.0281      0.150      6.844      0.000       0.725       1.331\n",
      "log_gdp_x_ivr -6.301e-05      0.000     -0.198      0.844      -0.001       0.001\n",
      "==============================================================================\n",
      "Omnibus:                        0.706   Durbin-Watson:                   2.216\n",
      "Prob(Omnibus):                  0.702   Jarque-Bera (JB):                0.520\n",
      "Skew:                           0.252   Prob(JB):                        0.771\n",
      "Kurtosis:                       2.919   Cond. No.                     3.65e+04\n",
      "==============================================================================\n",
      "\n",
      "Notes:\n",
      "[1] Standard Errors assume that the covariance matrix of the errors is correctly specified.\n",
      "[2] The condition number is large, 3.65e+04. This might indicate that there are\n",
      "strong multicollinearity or other numerical problems.\n"
     ]
    }
   ],
   "source": [
    "combined_df['log_gdp_x_ivr'] = combined_df['log_gdp'] * combined_df['ivr']\n",
    "formula = 'log_co2 ~ mean_of_esg + log_gdp + log_gdp_x_ivr'\n",
    "model = smf.ols(formula, data=combined_df)\n",
    "ols = model.fit()\n",
    "\n",
    "print(ols.summary())"
   ]
  }
 ],
 "metadata": {
  "kernelspec": {
   "display_name": "Python 3",
   "language": "python",
   "name": "python3"
  },
  "language_info": {
   "codemirror_mode": {
    "name": "ipython",
    "version": 3
   },
   "file_extension": ".py",
   "mimetype": "text/x-python",
   "name": "python",
   "nbconvert_exporter": "python",
   "pygments_lexer": "ipython3",
   "version": "3.11.1"
  }
 },
 "nbformat": 4,
 "nbformat_minor": 2
}
